{
 "cells": [
  {
   "cell_type": "code",
   "execution_count": 1,
   "metadata": {},
   "outputs": [],
   "source": [
    "# coding: utf-8\n",
    "# Name: André Moreira Souza\n",
    "# NUSP: 9778985\n",
    "# Course Code: SCC0251\n",
    "# Semester: 2019/1\n",
    "# Assignment: 2 - Image enhancement and filtering"
   ]
  },
  {
   "cell_type": "code",
   "execution_count": 79,
   "metadata": {},
   "outputs": [],
   "source": [
    "import numpy as np\n",
    "import imageio"
   ]
  },
  {
   "cell_type": "markdown",
   "metadata": {},
   "source": [
    "## Defining functions"
   ]
  },
  {
   "cell_type": "code",
   "execution_count": 74,
   "metadata": {},
   "outputs": [],
   "source": [
    "# method 1 - limiarization\n",
    "def limiarization(img, t0):\n",
    "    t = 0.5 * (np.nanmean(np.where(img > t0, img, np.NaN)) + np.nanmean(np.where(img <= t0, img, np.NaN))) # calculating threshold\n",
    "    while(abs(t-t0) > 0.5):\n",
    "        t0 = t\n",
    "        m1 = np.nanmean(np.where(img > t, img, np.NaN)) # mean of group1\n",
    "        m2 = np.nanmean(np.where(img <= t, img, np.NaN)) # mean of group2\n",
    "        t = 0.5 * (m1 + m2)\n",
    "    return np.where(img > t, 1, 0)\n",
    "\n",
    "# method 2 - 1d filtering\n",
    "def filter1d(img, w):\n",
    "    imgFlat = img.flatten() # flattening img\n",
    "    imgFinal = np.zeros(imgFlat.shape, dtype=np.double) # creating new array and applying filter\n",
    "    for i in range(imgFlat.shape[0]):\n",
    "        imgFinal[i] = np.sum([imgFlat[(i+j) % imgFlat.shape[0]] * w[j] for j in range(len(w))])\n",
    "    return imgFinal.reshape(img.shape)\n",
    "    \n",
    "\n",
    "# method 3 - 2d filtering\n",
    "def filter2d(img, w, t0):\n",
    "    imgPad = np.pad(img, w.shape[0]//2, 'symmetric') # padding input image to apply filter\n",
    "    imgFinal = np.zeros(img.shape, dtype=np.double) # creating new array and applying filter\n",
    "    for i in range(0, img.shape[0]):\n",
    "        for j in range(0, img.shape[1]):\n",
    "            imgFinal[i][j] = np.sum([[imgPad[i+x][j+y] * w[x][y] for x in range(w.shape[0])] for y in range(w.shape[1])])\n",
    "    return limiarization(imgFinal, t0) # return limiarization of filtered image\n",
    "\n",
    "# method 4 - 2d median filter\n",
    "def medianFilter2d(img, n):\n",
    "    imgPad = np.pad(img, n//2, 'constant', constant_values = 0)\n",
    "    imgFinal = np.zeros(img.shape, dtype=np.double)\n",
    "    for i in range(0, img.shape[0]):\n",
    "        for j in range(0, img.shape[1]):\n",
    "            imgFinal[i][j] = np.median(imgPad[i:i+n, j:j+n])\n",
    "    return imgFinal\n",
    "\n",
    "# Normalize value of an numpy array between 0 and a given max value\n",
    "def normalize (arr, maxvalue):\n",
    "    return (arr-arr.min()) * (maxvalue / (arr.max()-arr.min()))\n",
    "\n",
    "# root mean squared error (RMSE) function\n",
    "def rmse (img_g, img_r):\n",
    "    return np.sqrt((1/(img_g.shape[0]*img_g.shape[1])) * np.sum(np.power(img_g.astype(np.double) - img_r.astype(np.double), 2)))"
   ]
  },
  {
   "cell_type": "markdown",
   "metadata": {},
   "source": [
    "## Main function"
   ]
  },
  {
   "cell_type": "code",
   "execution_count": 94,
   "metadata": {},
   "outputs": [
    {
     "name": "stdout",
     "output_type": "stream",
     "text": [
      "70.2873\n"
     ]
    }
   ],
   "source": [
    "if __name__ == '__main__':\n",
    "    # get user input\n",
    "    filename = str(input()).strip()\n",
    "    sourceImg = imageio.imread(filename)\n",
    "    method = int(input())\n",
    "    if method == 1:\n",
    "        t0 = np.double(input())\n",
    "        outputImg = normalize(limiarization(sourceImg, t0), 255).astype(np.uint8)\n",
    "    elif method == 2:\n",
    "        n = int(input())\n",
    "        w = np.array(input().split(), dtype=np.double)\n",
    "        if w.shape[0] != n:\n",
    "            raise ValueError(\"unexpected number of values for filter.\")\n",
    "        outputImg = normalize(filter1d(sourceImg, w), 255).astype(np.uint8)\n",
    "    elif method == 3:\n",
    "        n = int(input())\n",
    "        w = np.array([input().split() for i in range(n)], dtype=np.double)\n",
    "        if w.shape != (n, n):\n",
    "            raise ValueError(\"unexpected number of values for filter.\")\n",
    "        t0 = np.double(input())\n",
    "        outputImg = normalize(filter2d(sourceImg, w, t0), 255).astype(np.uint8)\n",
    "    elif method == 4:\n",
    "        n = int(input())\n",
    "        outputImg = normalize(medianFilter2d(sourceImg, n), 255).astype(np.uint8)\n",
    "    else:\n",
    "        raise ValueError(\"method value not in supported range (minimum = 1, maximum = 4).\")\n",
    "    print('%.4f' % rmse(sourceImg, outputImg))"
   ]
  }
 ],
 "metadata": {
  "kernelspec": {
   "display_name": "Python 3",
   "language": "python",
   "name": "python3"
  },
  "language_info": {
   "codemirror_mode": {
    "name": "ipython",
    "version": 3
   },
   "file_extension": ".py",
   "mimetype": "text/x-python",
   "name": "python",
   "nbconvert_exporter": "python",
   "pygments_lexer": "ipython3",
   "version": "3.6.5"
  }
 },
 "nbformat": 4,
 "nbformat_minor": 2
}
